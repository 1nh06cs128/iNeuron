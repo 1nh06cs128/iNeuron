{
 "cells": [
  {
   "cell_type": "code",
   "execution_count": 22,
   "id": "7a1b1087",
   "metadata": {},
   "outputs": [
    {
     "name": "stdout",
     "output_type": "stream",
     "text": [
      "\n",
      "\n",
      "iNeuron       \n",
      "\n",
      "iNeuron       iNeuron       \n",
      "\n",
      "iNeuron       iNeuron       iNeuron       \n",
      "\n",
      "iNeuron       iNeuron       iNeuron       iNeuron       \n",
      "\n"
     ]
    }
   ],
   "source": [
    "# Q. 01\n",
    "sample = 'iNeuron'\n",
    "samplesLength = len(sample)\n",
    "\n",
    "confirmLinesToPrint = 4\n",
    "\n",
    "rStart = 0\n",
    "rStop = 0\n",
    "\n",
    "gap = \" \"*samplesLength\n",
    "\n",
    "rStart = 0\n",
    "rStop = confirmLinesToPrint +1\n",
    "direction = 1\n",
    "\n",
    "for outerLoop in range(rStart, rStop, direction):\n",
    "    for innerLoop in range(0, outerLoop, 1):\n",
    "        print(sample, end=gap)\n",
    "    print(\"\\n\")\n",
    "else :\n",
    "    pass\n"
   ]
  },
  {
   "cell_type": "code",
   "execution_count": 2,
   "id": "6ad5588e",
   "metadata": {},
   "outputs": [
    {
     "name": "stdout",
     "output_type": "stream",
     "text": [
      "              iNeuron       \n",
      "\n",
      "       iNeuron       iNeuron       \n",
      "\n",
      "iNeuron       iNeuron       iNeuron       \n",
      "\n",
      "       iNeuron       iNeuron       \n",
      "\n",
      "              iNeuron       \n",
      "\n"
     ]
    }
   ],
   "source": [
    "# Q. 02\n",
    "sample = 'iNeuron'\n",
    "samplesLength = len(sample)\n",
    "\n",
    "linesToPrint = 5\n",
    "\n",
    "rStart = 0\n",
    "rStop = 0\n",
    "\n",
    "if linesToPrint % 2 == 1 :\n",
    "    straightTriangle = int(linesToPrint / 2) + 1\n",
    "else :\n",
    "    straightTriangle = int(linesToPrint / 2)\n",
    "\n",
    "inverseTriangle = linesToPrint - straightTriangle\n",
    "\n",
    "emptyString = \" \"*samplesLength\n",
    "gap=emptyString\n",
    "\n",
    "emptySpaces = straightTriangle - 1\n",
    "\n",
    "rStart = 0\n",
    "rStop = straightTriangle \n",
    "direction = 1\n",
    "\n",
    "for outerLoop in range(rStart, rStop, direction):\n",
    "\n",
    "    for innerLoop in range(0, emptySpaces, 1):\n",
    "        print(end=emptyString)\n",
    "\n",
    "    emptySpaces -= 1\n",
    "    \n",
    "    for j in range(0, outerLoop+1):\n",
    "        print(sample, end=gap)\n",
    "     \n",
    "    print(\"\\n\")\n",
    "\n",
    "\n",
    "if linesToPrint % 2 == 1 :\n",
    "    emptySpaces = 0\n",
    "else :\n",
    "    emptySpaces = -1\n",
    "\n",
    "rStart = inverseTriangle - 1\n",
    "rStop = -1\n",
    "direction = -1\n",
    "\n",
    "for outerLoop in range(rStart, rStop , -1):\n",
    "\n",
    "    for innerLoop in range(emptySpaces, -1, -1):\n",
    "        print(end=emptyString)\n",
    "\n",
    "    emptySpaces += 1\n",
    "    \n",
    "    for j in range(outerLoop, -1, -1):\n",
    "        print(sample, end=gap)\n",
    "     \n",
    "    print(\"\\n\")"
   ]
  },
  {
   "cell_type": "code",
   "execution_count": 3,
   "id": "b912bb32",
   "metadata": {},
   "outputs": [],
   "source": [
    "sampleCollection = [1,4,8,9, 'string', 'test', 's','iNeuron' , [1,2,3,4], (2,3,4,5,6), (3,4,5,6,7), set([23,4,5,45,4,4,5,45,45,4,5]), {'k1':\"Sudh\", 'k2':\"iNeuron\", 'k3': \"kumar\", 3:6, 7:8}, ['iNeuron', \"Data Science\"]]"
   ]
  },
  {
   "cell_type": "code",
   "execution_count": 4,
   "id": "ac8c4cab",
   "metadata": {},
   "outputs": [
    {
     "name": "stdout",
     "output_type": "stream",
     "text": [
      "[1, 2, 3, 4]\n",
      "['iNeuron', 'Data Science']\n"
     ]
    }
   ],
   "source": [
    "# Q. 03\n",
    "# print(sampleCollection)\n",
    "for indexItem in sampleCollection:\n",
    "    if type(indexItem) == list :\n",
    "        print(indexItem)"
   ]
  },
  {
   "cell_type": "code",
   "execution_count": 5,
   "id": "61d473f1",
   "metadata": {},
   "outputs": [
    {
     "name": "stdout",
     "output_type": "stream",
     "text": [
      "{'k1': 'Sudh', 'k2': 'iNeuron', 'k3': 'kumar', 3: 6, 7: 8}\n"
     ]
    }
   ],
   "source": [
    "# Q. 04\n",
    "# print(sampleCollection)\n",
    "for indexItem in sampleCollection:\n",
    "    if type(indexItem) == dict :\n",
    "        print(indexItem)"
   ]
  },
  {
   "cell_type": "code",
   "execution_count": 6,
   "id": "4634fb72",
   "metadata": {},
   "outputs": [
    {
     "name": "stdout",
     "output_type": "stream",
     "text": [
      "(2, 3, 4, 5, 6)\n",
      "(3, 4, 5, 6, 7)\n"
     ]
    }
   ],
   "source": [
    "# Q. 05\n",
    "# print(sampleCollection)\n",
    "for indexItem in sampleCollection:\n",
    "    if type(indexItem) == tuple :\n",
    "        print(indexItem)"
   ]
  },
  {
   "cell_type": "code",
   "execution_count": 7,
   "id": "68faba66",
   "metadata": {},
   "outputs": [
    {
     "name": "stdout",
     "output_type": "stream",
     "text": [
      "[1, 4, 8, 9, 1, 2, 3, 4, 2, 3, 4, 5, 6, 3, 4, 5, 6, 7, 45, 4, 5, 23, 3, 6, 7, 8]\n"
     ]
    }
   ],
   "source": [
    "# Q. 06\n",
    "numericalCollection = []\n",
    "\n",
    "# print(sampleCollection)\n",
    "for sample in sampleCollection:\n",
    "    \n",
    "    if type(sample) == int or type(sample) == float :\n",
    "        numericalCollection.append(sample)\n",
    "    \n",
    "    elif type(sample) == list or type(sample) == tuple or type(sample) == set :\n",
    "        for item in sample:\n",
    "            if type(item) == int :\n",
    "                numericalCollection.append(item)\n",
    "                \n",
    "    elif type(sample) == dict :\n",
    "        for key,value in sample.items():\n",
    "            if type(key) == int :\n",
    "                numericalCollection.append(key)\n",
    "            if type(value) == int :\n",
    "                numericalCollection.append(value)\n",
    "                \n",
    "    else :\n",
    "        pass\n",
    "else :\n",
    "    print(numericalCollection)"
   ]
  },
  {
   "cell_type": "code",
   "execution_count": 8,
   "id": "cb17afbd",
   "metadata": {},
   "outputs": [
    {
     "name": "stdout",
     "output_type": "stream",
     "text": [
      "178\n"
     ]
    }
   ],
   "source": [
    "# Q. 07\n",
    "summation = 0\n",
    "for everyNumber in numericalCollection :\n",
    "    summation += everyNumber\n",
    "else :\n",
    "    print(summation)"
   ]
  },
  {
   "cell_type": "code",
   "execution_count": 9,
   "id": "8f04f5e6",
   "metadata": {},
   "outputs": [
    {
     "name": "stdout",
     "output_type": "stream",
     "text": [
      "Odd Values List : [1, 9, 1, 3, 3, 5, 3, 5, 7, 45, 5, 23, 3, 7]\n",
      "Even Values List : [4, 8, 2, 4, 2, 4, 6, 4, 6, 4, 6, 8]\n"
     ]
    }
   ],
   "source": [
    "# Q. 08\n",
    "oddList = []\n",
    "evenList = []\n",
    "\n",
    "for numbers in numericalCollection :\n",
    "    if (numbers % 2 == 0) :\n",
    "        evenList.append(numbers)\n",
    "    else :\n",
    "        oddList.append(numbers)\n",
    "else :\n",
    "    print(\"Odd Values List :\", oddList)\n",
    "    print(\"Even Values List :\", evenList)"
   ]
  },
  {
   "cell_type": "code",
   "execution_count": 10,
   "id": "34e72775",
   "metadata": {},
   "outputs": [
    {
     "name": "stdout",
     "output_type": "stream",
     "text": [
      "3\n"
     ]
    }
   ],
   "source": [
    "# Q. 09\n",
    "searchSample = 'iNeuron'\n",
    "searchCount = 0\n",
    "\n",
    "# print(sampleCollection)\n",
    "for indexItem in sampleCollection :\n",
    "    \n",
    "    if indexItem == searchSample :\n",
    "        searchCount += 1\n",
    "\n",
    "    elif type(indexItem) == list or type(indexItem) == tuple :\n",
    "        for j in indexItem :\n",
    "            if j == searchSample :\n",
    "                searchCount += 1\n",
    "                \n",
    "    elif type(indexItem) == dict :\n",
    "        for key, value in indexItem.items() :\n",
    "            if key == searchSample :\n",
    "                searchCount += 1\n",
    "            elif value == searchSample :\n",
    "                searchCount += 1\n",
    "                \n",
    "    else :\n",
    "        pass\n",
    "else :\n",
    "    print(searchCount)"
   ]
  },
  {
   "cell_type": "code",
   "execution_count": 11,
   "id": "a31cb7c3",
   "metadata": {},
   "outputs": [
    {
     "name": "stdout",
     "output_type": "stream",
     "text": [
      "{1: 2, 2: 2, 3: 4, 4: 5, 5: 3, 6: 3, 7: 2, 8: 2, 9: 1, 's': 1, 'k2': 1, 23: 1, 'iNeuron': 3, 45: 1, 'k1': 1, 'test': 1, 'Sudh': 1, 'string': 1, 'Data Science': 1, 'kumar': 1, 'k3': 1}\n"
     ]
    }
   ],
   "source": [
    "# Q. 10\n",
    "flatCollection = []\n",
    "\n",
    "# print(sampleCollection)\n",
    "for sample in sampleCollection:\n",
    "        \n",
    "    if type(sample) == list or type(sample) == tuple or type(sample) == set :\n",
    "        for item in sample:\n",
    "            flatCollection.append(item)\n",
    "                \n",
    "    elif type(sample) == dict :\n",
    "        for key,value in sample.items():\n",
    "            flatCollection.append(key)\n",
    "            flatCollection.append(value)\n",
    "    else :\n",
    "        flatCollection.append(sample)\n",
    "    \n",
    "else :\n",
    "    occuranceCountDictionary = {}\n",
    "\n",
    "# print(flatCollection, \":\", len(flatCollection))  \n",
    "for items in set(flatCollection) :\n",
    "    occuranceCountDictionary[items] = flatCollection.count(items)\n",
    "else :\n",
    "    print(occuranceCountDictionary)"
   ]
  },
  {
   "cell_type": "code",
   "execution_count": 12,
   "id": "8117c634",
   "metadata": {},
   "outputs": [
    {
     "name": "stdout",
     "output_type": "stream",
     "text": [
      "5\n"
     ]
    }
   ],
   "source": [
    "# Q. 11\n",
    "# print(sampleCollection)\n",
    "for sample in sampleCollection:\n",
    "    if type(sample) == dict :\n",
    "        print(len(sample))\n",
    "    else :\n",
    "        pass"
   ]
  },
  {
   "cell_type": "code",
   "execution_count": 13,
   "id": "01123368",
   "metadata": {},
   "outputs": [
    {
     "name": "stdout",
     "output_type": "stream",
     "text": [
      "All Strings : ['string', 'test', 's', 'iNeuron', 'k1', 'Sudh', 'k2', 'iNeuron', 'k3', 'kumar', 'iNeuron', 'Data Science']\n",
      "All Unique Strings : {'iNeuron', 'Sudh', 'string', 'Data Science', 'kumar', 's', 'k3', 'k2', 'k1', 'test'}\n"
     ]
    }
   ],
   "source": [
    "# Q. 12\n",
    "stringsCollection = []\n",
    "\n",
    "# print(sampleCollection)\n",
    "for sample in sampleCollection:\n",
    "    \n",
    "    if type(sample) == str :\n",
    "        stringsCollection.append(sample)\n",
    "    \n",
    "    elif type(sample) == list or type(sample) == tuple or type(sample) == set :\n",
    "        for item in sample:\n",
    "            if type(item) == str :\n",
    "                stringsCollection.append(item)\n",
    "                \n",
    "    elif type(sample) == dict :\n",
    "        for key,value in sample.items():\n",
    "            if type(key) == str :\n",
    "                stringsCollection.append(key)\n",
    "            if type(value) == str :\n",
    "                stringsCollection.append(value)\n",
    "                \n",
    "    else :\n",
    "        pass\n",
    "    \n",
    "else :\n",
    "    uniqueStringsCollection = set(stringsCollection)\n",
    "    print(\"All Strings :\", stringsCollection)\n",
    "    print(\"All Unique Strings :\", uniqueStringsCollection)"
   ]
  },
  {
   "cell_type": "code",
   "execution_count": 14,
   "id": "473e7757",
   "metadata": {},
   "outputs": [
    {
     "name": "stdout",
     "output_type": "stream",
     "text": [
      "['k1', 'k2', 'k3', 'Data Science']\n"
     ]
    }
   ],
   "source": [
    "# Q. 13\n",
    "alphaCollection = []\n",
    "\n",
    "\n",
    "# print(stringsCollection)\n",
    "for string_s in stringsCollection :\n",
    "    if string_s.isalpha() == False :\n",
    "        alphaCollection.append(string_s)\n",
    "    else :\n",
    "        pass\n",
    "else :\n",
    "    print(alphaCollection)\n",
    "    "
   ]
  },
  {
   "cell_type": "code",
   "execution_count": 15,
   "id": "1e7f2b05",
   "metadata": {},
   "outputs": [
    {
     "name": "stdout",
     "output_type": "stream",
     "text": [
      "{(1, 2, 3, 4): 24, (2, 3, 4, 5, 6): 720, (3, 4, 5, 6, 7): 2520, (45, 4, 5, 23): 20700, ('iNeuron', 'Data Science'): 1}\n"
     ]
    }
   ],
   "source": [
    "# Q. 14\n",
    "multipliedDictionary = {}\n",
    "\n",
    "# print(sampleCollection)\n",
    "for sample in sampleCollection:\n",
    "    \n",
    "    if type(sample) == list or type(sample) == tuple or type(sample) == set :\n",
    "        multipliedValue = 1\n",
    "        for item in sample :\n",
    "            if type(item) == int :\n",
    "                multipliedValue *= item\n",
    "            else :\n",
    "                pass\n",
    "        else :\n",
    "                multipliedDictionary[tuple(sample)] = multipliedValue\n",
    "        \n",
    "else :\n",
    "    print(multipliedDictionary)\n"
   ]
  },
  {
   "cell_type": "code",
   "execution_count": 16,
   "id": "2666c8f9",
   "metadata": {},
   "outputs": [
    {
     "name": "stdout",
     "output_type": "stream",
     "text": [
      "flatCollection :  [1, 4, 8, 9, 'string', 'test', 's', 'iNeuron', 1, 2, 3, 4, 2, 3, 4, 5, 6, 3, 4, 5, 6, 7, 45, 4, 5, 23, 'k1', 'Sudh', 'k2', 'iNeuron', 'k3', 'kumar', 3, 6, 7, 8, 'iNeuron', 'Data Science']\n"
     ]
    }
   ],
   "source": [
    "# Q. 15\n",
    "# Already flattened Earlier in Q. 10\n",
    "print(\"flatCollection : \",flatCollection)"
   ]
  },
  {
   "cell_type": "code",
   "execution_count": null,
   "id": "8b78ee12",
   "metadata": {},
   "outputs": [],
   "source": []
  }
 ],
 "metadata": {
  "kernelspec": {
   "display_name": "Python 3 (ipykernel)",
   "language": "python",
   "name": "python3"
  },
  "language_info": {
   "codemirror_mode": {
    "name": "ipython",
    "version": 3
   },
   "file_extension": ".py",
   "mimetype": "text/x-python",
   "name": "python",
   "nbconvert_exporter": "python",
   "pygments_lexer": "ipython3",
   "version": "3.9.12"
  }
 },
 "nbformat": 4,
 "nbformat_minor": 5
}
